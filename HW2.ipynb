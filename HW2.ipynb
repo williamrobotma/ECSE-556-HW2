{
 "cells": [
  {
   "cell_type": "code",
   "execution_count": 1,
   "id": "3cb1a38e-32fd-4ca3-9ce3-99d37df7fef4",
   "metadata": {},
   "outputs": [],
   "source": [
    "import pandas as pd\n",
    "import numpy as np\n",
    "import sklearn\n",
    "import scipy.stats as ss\n",
    "import matplotlib.pyplot as plt\n",
    "import json\n",
    "import os\n",
    "import scipy.sparse\n",
    "\n",
    "data_dir = 'data'"
   ]
  },
  {
   "cell_type": "code",
   "execution_count": 2,
   "id": "d9c54e18-31c0-4e98-b3a0-3c57b6a07ee4",
   "metadata": {},
   "outputs": [],
   "source": [
    "avg_diff = lambda a, b: np.absolute(a - b).mean()\n",
    "def element_wise_diffs(q, diff=avg_diff, keys=None):\n",
    "    diffs = {}\n",
    "    \n",
    "    for i in range(len(q)):\n",
    "        for j in range(i + 1, len(q)):\n",
    "            if keys is not None:\n",
    "                key = (keys[i], keys[j])\n",
    "            else:\n",
    "                key = (i,j)\n",
    "            diffs[key] = diff(q[i], q[j])\n",
    "            \n",
    "    return diffs"
   ]
  },
  {
   "cell_type": "markdown",
   "id": "da3ed1d9-83c3-451b-aba6-f9ea7ccb12aa",
   "metadata": {},
   "source": [
    "# Homework 2"
   ]
  },
  {
   "cell_type": "markdown",
   "id": "81d8328f-a54d-4da9-9c63-60825f778f5f",
   "metadata": {},
   "source": [
    "## 1.3"
   ]
  },
  {
   "cell_type": "markdown",
   "id": "ee80a06e-1957-42a5-92ae-37e5a94f62ef",
   "metadata": {},
   "source": [
    "### Load edges, nodes"
   ]
  },
  {
   "cell_type": "code",
   "execution_count": 3,
   "id": "0221957c-bc62-4aef-be06-629976032dca",
   "metadata": {},
   "outputs": [],
   "source": [
    "edge_cols = ['Node1_id', 'Node2_id', 'Edge_weight', 'Edge_type', 'Source_id', 'Line_num']\n",
    "edges = pd.read_csv('data/9606.hn_HS_CX.edge', sep='\\t', names=edge_cols)"
   ]
  },
  {
   "cell_type": "code",
   "execution_count": 4,
   "id": "18678238-fcb2-41ea-b013-ecb8db464e42",
   "metadata": {},
   "outputs": [
    {
     "data": {
      "text/html": [
       "<div>\n",
       "<style scoped>\n",
       "    .dataframe tbody tr th:only-of-type {\n",
       "        vertical-align: middle;\n",
       "    }\n",
       "\n",
       "    .dataframe tbody tr th {\n",
       "        vertical-align: top;\n",
       "    }\n",
       "\n",
       "    .dataframe thead th {\n",
       "        text-align: right;\n",
       "    }\n",
       "</style>\n",
       "<table border=\"1\" class=\"dataframe\">\n",
       "  <thead>\n",
       "    <tr style=\"text-align: right;\">\n",
       "      <th></th>\n",
       "      <th>Node1_id</th>\n",
       "      <th>Node2_id</th>\n",
       "      <th>Edge_weight</th>\n",
       "      <th>Edge_type</th>\n",
       "      <th>Source_id</th>\n",
       "      <th>Line_num</th>\n",
       "    </tr>\n",
       "  </thead>\n",
       "  <tbody>\n",
       "    <tr>\n",
       "      <th>0</th>\n",
       "      <td>ENSG00000284589</td>\n",
       "      <td>ENSG00000276821</td>\n",
       "      <td>0.000008</td>\n",
       "      <td>hn_HS_CX</td>\n",
       "      <td>humannet.HumanNet</td>\n",
       "      <td>248612</td>\n",
       "    </tr>\n",
       "    <tr>\n",
       "      <th>1</th>\n",
       "      <td>ENSG00000284589</td>\n",
       "      <td>ENSG00000267534</td>\n",
       "      <td>0.000006</td>\n",
       "      <td>hn_HS_CX</td>\n",
       "      <td>humannet.HumanNet</td>\n",
       "      <td>332085</td>\n",
       "    </tr>\n",
       "    <tr>\n",
       "      <th>2</th>\n",
       "      <td>ENSG00000284589</td>\n",
       "      <td>ENSG00000178802</td>\n",
       "      <td>0.000006</td>\n",
       "      <td>hn_HS_CX</td>\n",
       "      <td>humannet.HumanNet</td>\n",
       "      <td>318214</td>\n",
       "    </tr>\n",
       "    <tr>\n",
       "      <th>3</th>\n",
       "      <td>ENSG00000284589</td>\n",
       "      <td>ENSG00000172772</td>\n",
       "      <td>0.000007</td>\n",
       "      <td>hn_HS_CX</td>\n",
       "      <td>humannet.HumanNet</td>\n",
       "      <td>312029</td>\n",
       "    </tr>\n",
       "    <tr>\n",
       "      <th>4</th>\n",
       "      <td>ENSG00000284589</td>\n",
       "      <td>ENSG00000167751</td>\n",
       "      <td>0.000008</td>\n",
       "      <td>hn_HS_CX</td>\n",
       "      <td>humannet.HumanNet</td>\n",
       "      <td>243030</td>\n",
       "    </tr>\n",
       "    <tr>\n",
       "      <th>...</th>\n",
       "      <td>...</td>\n",
       "      <td>...</td>\n",
       "      <td>...</td>\n",
       "      <td>...</td>\n",
       "      <td>...</td>\n",
       "      <td>...</td>\n",
       "    </tr>\n",
       "    <tr>\n",
       "      <th>154382</th>\n",
       "      <td>ENSG00000000419</td>\n",
       "      <td>ENSG00000124802</td>\n",
       "      <td>0.000005</td>\n",
       "      <td>hn_HS_CX</td>\n",
       "      <td>humannet.HumanNet</td>\n",
       "      <td>394893</td>\n",
       "    </tr>\n",
       "    <tr>\n",
       "      <th>154383</th>\n",
       "      <td>ENSG00000000419</td>\n",
       "      <td>ENSG00000101557</td>\n",
       "      <td>0.000006</td>\n",
       "      <td>hn_HS_CX</td>\n",
       "      <td>humannet.HumanNet</td>\n",
       "      <td>360110</td>\n",
       "    </tr>\n",
       "    <tr>\n",
       "      <th>154384</th>\n",
       "      <td>ENSG00000000419</td>\n",
       "      <td>ENSG00000101224</td>\n",
       "      <td>0.000006</td>\n",
       "      <td>hn_HS_CX</td>\n",
       "      <td>humannet.HumanNet</td>\n",
       "      <td>328424</td>\n",
       "    </tr>\n",
       "    <tr>\n",
       "      <th>154385</th>\n",
       "      <td>ENSG00000000419</td>\n",
       "      <td>ENSG00000096401</td>\n",
       "      <td>0.000006</td>\n",
       "      <td>hn_HS_CX</td>\n",
       "      <td>humannet.HumanNet</td>\n",
       "      <td>321013</td>\n",
       "    </tr>\n",
       "    <tr>\n",
       "      <th>154386</th>\n",
       "      <td>ENSG00000000419</td>\n",
       "      <td>ENSG00000082153</td>\n",
       "      <td>0.000005</td>\n",
       "      <td>hn_HS_CX</td>\n",
       "      <td>humannet.HumanNet</td>\n",
       "      <td>414137</td>\n",
       "    </tr>\n",
       "  </tbody>\n",
       "</table>\n",
       "<p>154387 rows × 6 columns</p>\n",
       "</div>"
      ],
      "text/plain": [
       "               Node1_id         Node2_id  Edge_weight Edge_type  \\\n",
       "0       ENSG00000284589  ENSG00000276821     0.000008  hn_HS_CX   \n",
       "1       ENSG00000284589  ENSG00000267534     0.000006  hn_HS_CX   \n",
       "2       ENSG00000284589  ENSG00000178802     0.000006  hn_HS_CX   \n",
       "3       ENSG00000284589  ENSG00000172772     0.000007  hn_HS_CX   \n",
       "4       ENSG00000284589  ENSG00000167751     0.000008  hn_HS_CX   \n",
       "...                 ...              ...          ...       ...   \n",
       "154382  ENSG00000000419  ENSG00000124802     0.000005  hn_HS_CX   \n",
       "154383  ENSG00000000419  ENSG00000101557     0.000006  hn_HS_CX   \n",
       "154384  ENSG00000000419  ENSG00000101224     0.000006  hn_HS_CX   \n",
       "154385  ENSG00000000419  ENSG00000096401     0.000006  hn_HS_CX   \n",
       "154386  ENSG00000000419  ENSG00000082153     0.000005  hn_HS_CX   \n",
       "\n",
       "                Source_id  Line_num  \n",
       "0       humannet.HumanNet    248612  \n",
       "1       humannet.HumanNet    332085  \n",
       "2       humannet.HumanNet    318214  \n",
       "3       humannet.HumanNet    312029  \n",
       "4       humannet.HumanNet    243030  \n",
       "...                   ...       ...  \n",
       "154382  humannet.HumanNet    394893  \n",
       "154383  humannet.HumanNet    360110  \n",
       "154384  humannet.HumanNet    328424  \n",
       "154385  humannet.HumanNet    321013  \n",
       "154386  humannet.HumanNet    414137  \n",
       "\n",
       "[154387 rows x 6 columns]"
      ]
     },
     "execution_count": 4,
     "metadata": {},
     "output_type": "execute_result"
    }
   ],
   "source": [
    "edges"
   ]
  },
  {
   "cell_type": "code",
   "execution_count": 5,
   "id": "e23ac8c4-e25d-45c1-9c83-738c5fa4c823",
   "metadata": {},
   "outputs": [],
   "source": [
    "node_cols = ['Internal_id', 'Mapped_id', 'Node_type', 'Node_alias', 'Node_description']\n",
    "node_map = pd.read_csv('data/9606.hn_HS_CX.node_map', sep='\\t', names=node_cols)"
   ]
  },
  {
   "cell_type": "code",
   "execution_count": 6,
   "id": "0728f466-bfcc-48b2-bf89-281ea26568d9",
   "metadata": {},
   "outputs": [
    {
     "data": {
      "text/html": [
       "<div>\n",
       "<style scoped>\n",
       "    .dataframe tbody tr th:only-of-type {\n",
       "        vertical-align: middle;\n",
       "    }\n",
       "\n",
       "    .dataframe tbody tr th {\n",
       "        vertical-align: top;\n",
       "    }\n",
       "\n",
       "    .dataframe thead th {\n",
       "        text-align: right;\n",
       "    }\n",
       "</style>\n",
       "<table border=\"1\" class=\"dataframe\">\n",
       "  <thead>\n",
       "    <tr style=\"text-align: right;\">\n",
       "      <th></th>\n",
       "      <th>Internal_id</th>\n",
       "      <th>Mapped_id</th>\n",
       "      <th>Node_type</th>\n",
       "      <th>Node_alias</th>\n",
       "      <th>Node_description</th>\n",
       "    </tr>\n",
       "  </thead>\n",
       "  <tbody>\n",
       "    <tr>\n",
       "      <th>0</th>\n",
       "      <td>ENSG00000187555</td>\n",
       "      <td>ENSG00000187555</td>\n",
       "      <td>Gene</td>\n",
       "      <td>USP7</td>\n",
       "      <td>ubiquitin specific peptidase 7 [Source:HGNC Sy...</td>\n",
       "    </tr>\n",
       "    <tr>\n",
       "      <th>1</th>\n",
       "      <td>ENSG00000196431</td>\n",
       "      <td>ENSG00000196431</td>\n",
       "      <td>Gene</td>\n",
       "      <td>CRYBA4</td>\n",
       "      <td>crystallin beta A4 [Source:HGNC Symbol;Acc:HGN...</td>\n",
       "    </tr>\n",
       "    <tr>\n",
       "      <th>2</th>\n",
       "      <td>ENSG00000166889</td>\n",
       "      <td>ENSG00000166889</td>\n",
       "      <td>Gene</td>\n",
       "      <td>PATL1</td>\n",
       "      <td>PAT1 homolog 1, processing body mRNA decay fac...</td>\n",
       "    </tr>\n",
       "    <tr>\n",
       "      <th>3</th>\n",
       "      <td>ENSG00000119042</td>\n",
       "      <td>ENSG00000119042</td>\n",
       "      <td>Gene</td>\n",
       "      <td>SATB2</td>\n",
       "      <td>SATB homeobox 2 [Source:HGNC Symbol;Acc:HGNC:2...</td>\n",
       "    </tr>\n",
       "    <tr>\n",
       "      <th>4</th>\n",
       "      <td>ENSG00000183508</td>\n",
       "      <td>ENSG00000183508</td>\n",
       "      <td>Gene</td>\n",
       "      <td>FAM46C</td>\n",
       "      <td>family with sequence similarity 46 member C [S...</td>\n",
       "    </tr>\n",
       "    <tr>\n",
       "      <th>...</th>\n",
       "      <td>...</td>\n",
       "      <td>...</td>\n",
       "      <td>...</td>\n",
       "      <td>...</td>\n",
       "      <td>...</td>\n",
       "    </tr>\n",
       "    <tr>\n",
       "      <th>10933</th>\n",
       "      <td>ENSG00000116903</td>\n",
       "      <td>ENSG00000116903</td>\n",
       "      <td>Gene</td>\n",
       "      <td>EXOC8</td>\n",
       "      <td>exocyst complex component 8 [Source:HGNC Symbo...</td>\n",
       "    </tr>\n",
       "    <tr>\n",
       "      <th>10934</th>\n",
       "      <td>ENSG00000047346</td>\n",
       "      <td>ENSG00000047346</td>\n",
       "      <td>Gene</td>\n",
       "      <td>FAM214A</td>\n",
       "      <td>family with sequence similarity 214 member A [...</td>\n",
       "    </tr>\n",
       "    <tr>\n",
       "      <th>10935</th>\n",
       "      <td>ENSG00000134901</td>\n",
       "      <td>ENSG00000134901</td>\n",
       "      <td>Gene</td>\n",
       "      <td>KDELC1</td>\n",
       "      <td>KDEL motif containing 1 [Source:HGNC Symbol;Ac...</td>\n",
       "    </tr>\n",
       "    <tr>\n",
       "      <th>10936</th>\n",
       "      <td>ENSG00000160180</td>\n",
       "      <td>ENSG00000160180</td>\n",
       "      <td>Gene</td>\n",
       "      <td>TFF3</td>\n",
       "      <td>trefoil factor 3 [Source:HGNC Symbol;Acc:HGNC:...</td>\n",
       "    </tr>\n",
       "    <tr>\n",
       "      <th>10937</th>\n",
       "      <td>ENSG00000128245</td>\n",
       "      <td>ENSG00000128245</td>\n",
       "      <td>Gene</td>\n",
       "      <td>YWHAH</td>\n",
       "      <td>tyrosine 3-monooxygenase/tryptophan 5-monooxyg...</td>\n",
       "    </tr>\n",
       "  </tbody>\n",
       "</table>\n",
       "<p>10938 rows × 5 columns</p>\n",
       "</div>"
      ],
      "text/plain": [
       "           Internal_id        Mapped_id Node_type Node_alias  \\\n",
       "0      ENSG00000187555  ENSG00000187555      Gene       USP7   \n",
       "1      ENSG00000196431  ENSG00000196431      Gene     CRYBA4   \n",
       "2      ENSG00000166889  ENSG00000166889      Gene      PATL1   \n",
       "3      ENSG00000119042  ENSG00000119042      Gene      SATB2   \n",
       "4      ENSG00000183508  ENSG00000183508      Gene     FAM46C   \n",
       "...                ...              ...       ...        ...   \n",
       "10933  ENSG00000116903  ENSG00000116903      Gene      EXOC8   \n",
       "10934  ENSG00000047346  ENSG00000047346      Gene    FAM214A   \n",
       "10935  ENSG00000134901  ENSG00000134901      Gene     KDELC1   \n",
       "10936  ENSG00000160180  ENSG00000160180      Gene       TFF3   \n",
       "10937  ENSG00000128245  ENSG00000128245      Gene      YWHAH   \n",
       "\n",
       "                                        Node_description  \n",
       "0      ubiquitin specific peptidase 7 [Source:HGNC Sy...  \n",
       "1      crystallin beta A4 [Source:HGNC Symbol;Acc:HGN...  \n",
       "2      PAT1 homolog 1, processing body mRNA decay fac...  \n",
       "3      SATB homeobox 2 [Source:HGNC Symbol;Acc:HGNC:2...  \n",
       "4      family with sequence similarity 46 member C [S...  \n",
       "...                                                  ...  \n",
       "10933  exocyst complex component 8 [Source:HGNC Symbo...  \n",
       "10934  family with sequence similarity 214 member A [...  \n",
       "10935  KDEL motif containing 1 [Source:HGNC Symbol;Ac...  \n",
       "10936  trefoil factor 3 [Source:HGNC Symbol;Acc:HGNC:...  \n",
       "10937  tyrosine 3-monooxygenase/tryptophan 5-monooxyg...  \n",
       "\n",
       "[10938 rows x 5 columns]"
      ]
     },
     "execution_count": 6,
     "metadata": {},
     "output_type": "execute_result"
    }
   ],
   "source": [
    "node_map"
   ]
  },
  {
   "cell_type": "code",
   "execution_count": 7,
   "id": "60f57850-a33e-441c-9f50-451eaddff41f",
   "metadata": {},
   "outputs": [
    {
     "data": {
      "text/plain": [
       "True"
      ]
     },
     "execution_count": 7,
     "metadata": {},
     "output_type": "execute_result"
    }
   ],
   "source": [
    "# check to see that all nodes are in \n",
    "node_map.Internal_id.equals(node_map.Mapped_id)"
   ]
  },
  {
   "cell_type": "code",
   "execution_count": 8,
   "id": "c4956063-1c93-4ff7-aac9-e876c3d0dfc4",
   "metadata": {},
   "outputs": [
    {
     "data": {
      "text/plain": [
       "(10938,)"
      ]
     },
     "execution_count": 8,
     "metadata": {},
     "output_type": "execute_result"
    }
   ],
   "source": [
    "node_map.Internal_id.unique().shape"
   ]
  },
  {
   "cell_type": "markdown",
   "id": "9202c7c1-e019-4264-a09d-ad45f215eb68",
   "metadata": {},
   "source": [
    "### Construct Matrices \n",
    "Construct Adjacency Matrix"
   ]
  },
  {
   "cell_type": "code",
   "execution_count": 9,
   "id": "eeb945ea-7ba3-4f14-ba04-ca7a1994e107",
   "metadata": {},
   "outputs": [],
   "source": [
    "nodes = node_map.Internal_id.unique()\n",
    "adj = np.zeros((len(nodes), len(nodes)), dtype=float)\n",
    "\n",
    "# dict stores indices for each node id\n",
    "node_idx = dict(zip(nodes, range(len(nodes))))"
   ]
  },
  {
   "cell_type": "code",
   "execution_count": 10,
   "id": "d235290f-1240-43ff-b2f6-d0a42a8b50ae",
   "metadata": {},
   "outputs": [
    {
     "data": {
      "text/plain": [
       "0"
      ]
     },
     "execution_count": 10,
     "metadata": {},
     "output_type": "execute_result"
    }
   ],
   "source": [
    "duplicates = 0\n",
    "for Node1_id, Node2_id, Edge_weight in zip(edges.Node1_id, edges.Node2_id, edges.Edge_weight):\n",
    "    idx1 = node_idx[Node1_id]\n",
    "    idx2 = node_idx[Node2_id]\n",
    "    \n",
    "    if (adj[idx1, idx2] == 0.0) and (adj[idx2, idx1] == 0.0):\n",
    "        adj[idx1, idx2] = Edge_weight\n",
    "        adj[idx2, idx1] = Edge_weight\n",
    "    elif (adj[idx1, idx2] != Edge_weight) or (adj[idx2, idx1] != Edge_weight):\n",
    "        print(f'Different duplicates in adjacency matrix: Nodes {Node1_id}, {Node2_id}')\n",
    "        break\n",
    "    else:\n",
    "        duplicates +=1\n",
    "\n",
    "# convert to sparse format\n",
    "adj = scipy.sparse.csr_matrix(adj)\n",
    "duplicates\n",
    "    "
   ]
  },
  {
   "cell_type": "code",
   "execution_count": 11,
   "id": "8c3c11f2-367c-44ca-a9ae-04f10b730ad4",
   "metadata": {},
   "outputs": [
    {
     "data": {
      "text/plain": [
       "1.99998388988"
      ]
     },
     "execution_count": 11,
     "metadata": {},
     "output_type": "execute_result"
    }
   ],
   "source": [
    "adj.sum()"
   ]
  },
  {
   "cell_type": "code",
   "execution_count": 12,
   "id": "1c5f4bc9-049a-4232-844b-7fef36d1686d",
   "metadata": {},
   "outputs": [
    {
     "data": {
      "text/plain": [
       "119639844"
      ]
     },
     "execution_count": 12,
     "metadata": {},
     "output_type": "execute_result"
    }
   ],
   "source": [
    "adj.todense().size"
   ]
  },
  {
   "cell_type": "markdown",
   "id": "2818dcd2-73fa-4645-885a-2da7319d1d02",
   "metadata": {},
   "source": [
    "Set self edges to 0"
   ]
  },
  {
   "cell_type": "code",
   "execution_count": 13,
   "id": "ccbbc5a1-b356-438f-bdc7-94ca6b225665",
   "metadata": {},
   "outputs": [
    {
     "name": "stderr",
     "output_type": "stream",
     "text": [
      "/home/mawil/miniconda3/envs/HW2/lib/python3.9/site-packages/scipy/sparse/_index.py:125: SparseEfficiencyWarning: Changing the sparsity structure of a csr_matrix is expensive. lil_matrix is more efficient.\n",
      "  self._set_arrayXarray(i, j, x)\n"
     ]
    }
   ],
   "source": [
    "adj.setdiag(0.0)"
   ]
  },
  {
   "cell_type": "code",
   "execution_count": 14,
   "id": "06213c95-e8aa-4f7e-bde5-3f8f2bf351f4",
   "metadata": {},
   "outputs": [
    {
     "data": {
      "text/plain": [
       "1.99996777668"
      ]
     },
     "execution_count": 14,
     "metadata": {},
     "output_type": "execute_result"
    }
   ],
   "source": [
    "adj.sum()"
   ]
  },
  {
   "cell_type": "markdown",
   "id": "6327708a-be34-4769-ba48-44e2465b7ae2",
   "metadata": {},
   "source": [
    "Remove disconnected elements"
   ]
  },
  {
   "cell_type": "code",
   "execution_count": 15,
   "id": "b303a8ac-b8ec-478b-9396-e446d00c02c6",
   "metadata": {},
   "outputs": [
    {
     "data": {
      "text/plain": [
       "0"
      ]
     },
     "execution_count": 15,
     "metadata": {},
     "output_type": "execute_result"
    }
   ],
   "source": [
    "disconnected = adj.sum(axis=1) <= 1e-6\n",
    "disconnected.sum()"
   ]
  },
  {
   "cell_type": "markdown",
   "id": "9b2d3c4a-585a-45bc-83bf-bc1a6c6f9c8b",
   "metadata": {},
   "source": [
    "There are no disconnected elements!"
   ]
  },
  {
   "cell_type": "markdown",
   "id": "961169f9-540f-46cb-9eab-fef4cc61307c",
   "metadata": {},
   "source": [
    "Make a transition matrix by normalizing rows to 1:"
   ]
  },
  {
   "cell_type": "code",
   "execution_count": 16,
   "id": "412738c3-e7fb-4ba0-93fd-4f68928bbf89",
   "metadata": {},
   "outputs": [],
   "source": [
    "trans = adj/adj.toarray().sum(axis=1,keepdims=1)\n",
    "# convert to sparse\n",
    "trans = scipy.sparse.csr_matrix(trans)"
   ]
  },
  {
   "cell_type": "markdown",
   "id": "47b3ef47-8eae-4a04-b277-169923fbe17c",
   "metadata": {},
   "source": [
    "Save matrices and keys"
   ]
  },
  {
   "cell_type": "code",
   "execution_count": 17,
   "id": "ed84ac73-cb27-447e-8dfa-35052042907b",
   "metadata": {},
   "outputs": [],
   "source": [
    "scipy.sparse.save_npz(os.path.join(data_dir, 'adj.npz'), adj)\n",
    "scipy.sparse.save_npz(os.path.join(data_dir, 'trans.npz'), trans)\n",
    "\n",
    "with open(os.path.join(data_dir, 'nodes.txt'), 'w') as f:\n",
    "    f.writelines(\"%s\\n\" % node for node in nodes)\n",
    "\n",
    "with open(os.path.join(data_dir, 'node_idx.json'), 'w') as f:\n",
    "    json.dump(node_idx, f)"
   ]
  },
  {
   "cell_type": "markdown",
   "id": "84695fd5-49ab-487b-9c60-0964fd6c7219",
   "metadata": {},
   "source": [
    "### Random-Walk"
   ]
  },
  {
   "cell_type": "code",
   "execution_count": 18,
   "id": "c1d901de-6738-4173-a4ca-d96a788154e4",
   "metadata": {},
   "outputs": [],
   "source": [
    "adj = scipy.sparse.load_npz(os.path.join(data_dir, 'adj.npz'))\n",
    "trans = scipy.sparse.load_npz(os.path.join(data_dir, 'trans.npz'))\n",
    "        \n",
    "nodes = []        \n",
    "with open(os.path.join(data_dir, 'nodes.txt'), 'r') as f:\n",
    "    nodes = [node.rstrip() for node in f.readlines()]\n",
    "\n",
    "with open(os.path.join(data_dir, 'node_idx.json'), 'r') as f:\n",
    "    node_idx = json.load(f)"
   ]
  },
  {
   "cell_type": "markdown",
   "id": "7f7b9a6b-f1ab-42cd-b49a-558c1e1a5fde",
   "metadata": {},
   "source": [
    "Generate 3 random 1 hot vectors"
   ]
  },
  {
   "cell_type": "code",
   "execution_count": 19,
   "id": "e5e1aab8-e060-471a-b5f5-99cbbc11ef20",
   "metadata": {},
   "outputs": [],
   "source": [
    "# 3 random numbers\n",
    "ones = np.random.default_rng(seed=27).integers(len(nodes), size=3)\n",
    "# 1-hot them\n",
    "qs = np.zeros((ones.size, len(nodes)))\n",
    "qs[np.arange(ones.size),ones] = 1.0"
   ]
  },
  {
   "cell_type": "markdown",
   "id": "b61d6f09-845a-40b8-845f-8c79b828ff77",
   "metadata": {},
   "source": [
    "Run q_(k+1) =q_k*P until convergence"
   ]
  },
  {
   "cell_type": "code",
   "execution_count": 20,
   "id": "c2dce464-a551-4174-a248-7326378b386d",
   "metadata": {},
   "outputs": [],
   "source": [
    "# convert from sparse to dense\n",
    "trans = trans.toarray()\n",
    "converge_thresh = 1e-6 / len(nodes)                   \n",
    "max_diff = lambda a, b: np.absolute(a - b).max()\n",
    "                   \n",
    "for i in range(len(qs)):    \n",
    "    q_old = np.zeros(len(nodes))\n",
    "    while max_diff(q_old, qs[i]) > converge_thresh:\n",
    "        q_old = qs[i].copy()\n",
    "        qs[i] = np.matmul(qs[i],trans)"
   ]
  },
  {
   "cell_type": "code",
   "execution_count": 21,
   "id": "b4924230-205f-4b59-a211-9def6a762371",
   "metadata": {},
   "outputs": [
    {
     "data": {
      "text/plain": [
       "array([[1.04823342e-04, 1.18121578e-05, 7.41092327e-05, ...,\n",
       "        1.28720406e-05, 4.46601784e-05, 3.23755836e-04],\n",
       "       [1.04823342e-04, 1.18121578e-05, 7.41092327e-05, ...,\n",
       "        1.28720406e-05, 4.46601784e-05, 3.23755836e-04],\n",
       "       [1.04823342e-04, 1.18121578e-05, 7.41092327e-05, ...,\n",
       "        1.28720406e-05, 4.46601784e-05, 3.23755837e-04]])"
      ]
     },
     "execution_count": 21,
     "metadata": {},
     "output_type": "execute_result"
    }
   ],
   "source": [
    "qs"
   ]
  },
  {
   "cell_type": "code",
   "execution_count": 22,
   "id": "9248a07e-ec86-473d-a1b2-0b03edd0afc2",
   "metadata": {},
   "outputs": [
    {
     "data": {
      "text/plain": [
       "array([1., 1., 1.])"
      ]
     },
     "execution_count": 22,
     "metadata": {},
     "output_type": "execute_result"
    }
   ],
   "source": [
    "qs.sum(axis=1)"
   ]
  },
  {
   "cell_type": "markdown",
   "id": "627073ba-c50e-462a-8597-5e405e2c6775",
   "metadata": {},
   "source": [
    "Confirm differences (maximum pair-wise element-wise absolute differences)"
   ]
  },
  {
   "cell_type": "code",
   "execution_count": 23,
   "id": "8036a7bb-bffc-464d-8bf4-2cafd4f178a6",
   "metadata": {},
   "outputs": [
    {
     "data": {
      "text/plain": [
       "{(0, 1): 4.219634459350801e-11,\n",
       " (0, 2): 7.01661072214472e-11,\n",
       " (1, 2): 9.095610131193974e-11}"
      ]
     },
     "execution_count": 23,
     "metadata": {},
     "output_type": "execute_result"
    }
   ],
   "source": [
    "element_wise_diffs(qs, max_diff)"
   ]
  },
  {
   "cell_type": "markdown",
   "id": "5d46e344-545f-48d2-ba6b-9c472d5c3444",
   "metadata": {},
   "source": [
    "## 1.4"
   ]
  },
  {
   "cell_type": "code",
   "execution_count": 24,
   "id": "6d1434ae-2f0b-4f3a-9e4d-abed5ff84110",
   "metadata": {},
   "outputs": [],
   "source": [
    "adj = scipy.sparse.load_npz(os.path.join(data_dir, 'adj.npz'))\n",
    "trans = scipy.sparse.load_npz(os.path.join(data_dir, 'trans.npz'))\n",
    "        \n",
    "nodes = []        \n",
    "with open(os.path.join(data_dir, 'nodes.txt'), 'r') as f:\n",
    "    nodes = [node.rstrip() for node in f.readlines()]\n",
    "\n",
    "with open(os.path.join(data_dir, 'node_idx.json'), 'r') as f:\n",
    "    node_idx = json.load(f)\n",
    "    \n"
   ]
  },
  {
   "cell_type": "markdown",
   "id": "7e618031-c9fc-4246-ba1a-9c057c5eb6a2",
   "metadata": {},
   "source": [
    "Generate 3 random 1 hot vectors"
   ]
  },
  {
   "cell_type": "code",
   "execution_count": 25,
   "id": "cd3c98a3-a9de-403b-bdee-22223e9c7224",
   "metadata": {},
   "outputs": [],
   "source": [
    "# 3 random numbers\n",
    "ones = np.random.default_rng(seed=27).integers(len(nodes), size=3)\n",
    "# 1-hot them\n",
    "q0 = np.zeros((ones.size, len(nodes)))\n",
    "q0[np.arange(ones.size),ones] = 1.0"
   ]
  },
  {
   "cell_type": "code",
   "execution_count": 26,
   "id": "37e4ca8c-a878-4fda-95ec-1564109a69ca",
   "metadata": {},
   "outputs": [],
   "source": [
    "# transition probs\n",
    "p = [0.2, 0.5, 0.8]\n",
    "\n",
    "# load first row as N1 and N2\n",
    "edge_cols = ['Node1_id', 'Node2_id', 'Edge_weight', 'Edge_type', 'Source_id', 'Line_num']\n",
    "edges = pd.read_csv('data/9606.hn_HS_CX.edge', sep='\\t', names=edge_cols)\n",
    "\n",
    "Ns = edges.iloc[0,:2].values\n",
    "N_idx = [node_idx[N] for N in Ns]\n",
    "v = np.zeros(((len(N_idx), len(nodes))))\n",
    "v[np.arange(len(N_idx)),N_idx] = 1.0"
   ]
  },
  {
   "cell_type": "code",
   "execution_count": 27,
   "id": "a1f1bf1a-a0ee-4f4d-a827-e282e0b340c0",
   "metadata": {},
   "outputs": [
    {
     "data": {
      "text/plain": [
       "(array([9308, 8296]),\n",
       " array(['ENSG00000284589', 'ENSG00000276821'], dtype=object),\n",
       " [9308, 8296])"
      ]
     },
     "execution_count": 27,
     "metadata": {},
     "output_type": "execute_result"
    }
   ],
   "source": [
    "v.argmax(axis=1), Ns, N_idx"
   ]
  },
  {
   "cell_type": "markdown",
   "id": "c6c0be80-fd80-48a5-ac90-e6855aaacc7c",
   "metadata": {},
   "source": [
    "* Provide one file that shows the stationary distribution of RWR for each of these probabilities, with N1 as the restart set. How does the value of 𝑝 affect the results?\n",
    "* Repeat this with different choices of 𝐪0. Does the result change for a fixed value of 𝑝?\n",
    "* Repeat the analysis above with N2 and 𝑝 = 0.2, 0.5, 0.8. Provide one file that shows the stationary distribution of RWR for each of these probabilities. How does the value of 𝑝 affect the results?"
   ]
  },
  {
   "cell_type": "code",
   "execution_count": 28,
   "id": "5006b3dc-269c-424c-b77a-d34d2e7f3a49",
   "metadata": {},
   "outputs": [],
   "source": [
    "# convert from sparse to dense\n",
    "trans = trans.toarray()\n",
    "converge_thresh = 1e-6 / len(nodes)                   \n",
    "max_diff = lambda a, b: np.absolute(a - b).max()\n",
    "\n",
    "# shape is (# of v values, # of p values, # of q0 values, length of vectors)\n",
    "qs_n1 = np.stack([q0.copy(), q0.copy(), q0.copy()])\n",
    "qs_n = np.stack([qs_n1.copy(), qs_n1.copy()])\n",
    "\n",
    "for i in range(len(v)):\n",
    "    for j in range(len(p)):\n",
    "        for k in range(len(q0)):\n",
    "            q_old = np.zeros(len(nodes))\n",
    "            while max_diff(q_old, qs_n[i,j,k]) > converge_thresh:\n",
    "                q_old = qs_n[i,j,k].copy()\n",
    "                # v[0] is n1, v[1] is n2\n",
    "                qs_n[i,j,k] = p[j]*np.matmul(qs_n[i,j,k],trans) + (1 - p[j]) * v[i]"
   ]
  },
  {
   "cell_type": "code",
   "execution_count": 29,
   "id": "7b13a6dc-5e27-499d-ba71-06efeafa64ee",
   "metadata": {},
   "outputs": [],
   "source": [
    "np.save(os.path.join(data_dir, 'qs_n.npy'), qs_n, allow_pickle=False)"
   ]
  },
  {
   "cell_type": "markdown",
   "id": "e75cb319-1a8f-42c2-8c92-8931a71d9742",
   "metadata": {},
   "source": [
    "Check different probabilities, N1, fixed q0\n",
    "\n",
    "Confirm differences (maximum pair-wise element-wise absolute differences)"
   ]
  },
  {
   "cell_type": "code",
   "execution_count": 30,
   "id": "13f46a9f-3a9b-4f0c-a403-d2d2194cc91a",
   "metadata": {},
   "outputs": [
    {
     "data": {
      "text/plain": [
       "{(0.2, 0.5): 5.357318953900834e-05,\n",
       " (0.2, 0.8): 0.00010724172417683091,\n",
       " (0.5, 0.8): 5.475113985613568e-05}"
      ]
     },
     "execution_count": 30,
     "metadata": {},
     "output_type": "execute_result"
    }
   ],
   "source": [
    "element_wise_diffs(qs_n[0,:,0], avg_diff, keys=p)"
   ]
  },
  {
   "cell_type": "code",
   "execution_count": 31,
   "id": "4ca6660a-ea9c-4435-b961-58fc5dbcba7c",
   "metadata": {},
   "outputs": [
    {
     "data": {
      "text/html": [
       "<div>\n",
       "<style scoped>\n",
       "    .dataframe tbody tr th:only-of-type {\n",
       "        vertical-align: middle;\n",
       "    }\n",
       "\n",
       "    .dataframe tbody tr th {\n",
       "        vertical-align: top;\n",
       "    }\n",
       "\n",
       "    .dataframe thead th {\n",
       "        text-align: right;\n",
       "    }\n",
       "</style>\n",
       "<table border=\"1\" class=\"dataframe\">\n",
       "  <thead>\n",
       "    <tr style=\"text-align: right;\">\n",
       "      <th></th>\n",
       "      <th>0.2</th>\n",
       "      <th>0.5</th>\n",
       "      <th>0.8</th>\n",
       "    </tr>\n",
       "  </thead>\n",
       "  <tbody>\n",
       "    <tr>\n",
       "      <th>count</th>\n",
       "      <td>1.093800e+04</td>\n",
       "      <td>1.093800e+04</td>\n",
       "      <td>10938.000000</td>\n",
       "    </tr>\n",
       "    <tr>\n",
       "      <th>mean</th>\n",
       "      <td>9.142439e-05</td>\n",
       "      <td>9.142439e-05</td>\n",
       "      <td>0.000091</td>\n",
       "    </tr>\n",
       "    <tr>\n",
       "      <th>std</th>\n",
       "      <td>7.672849e-03</td>\n",
       "      <td>4.922449e-03</td>\n",
       "      <td>0.002234</td>\n",
       "    </tr>\n",
       "    <tr>\n",
       "      <th>min</th>\n",
       "      <td>0.000000e+00</td>\n",
       "      <td>0.000000e+00</td>\n",
       "      <td>0.000000</td>\n",
       "    </tr>\n",
       "    <tr>\n",
       "      <th>25%</th>\n",
       "      <td>2.197092e-09</td>\n",
       "      <td>1.463258e-07</td>\n",
       "      <td>0.000002</td>\n",
       "    </tr>\n",
       "    <tr>\n",
       "      <th>50%</th>\n",
       "      <td>1.771513e-08</td>\n",
       "      <td>7.321868e-07</td>\n",
       "      <td>0.000007</td>\n",
       "    </tr>\n",
       "    <tr>\n",
       "      <th>75%</th>\n",
       "      <td>1.367469e-07</td>\n",
       "      <td>3.425074e-06</td>\n",
       "      <td>0.000026</td>\n",
       "    </tr>\n",
       "    <tr>\n",
       "      <th>max</th>\n",
       "      <td>8.016424e-01</td>\n",
       "      <td>5.086507e-01</td>\n",
       "      <td>0.215137</td>\n",
       "    </tr>\n",
       "  </tbody>\n",
       "</table>\n",
       "</div>"
      ],
      "text/plain": [
       "                0.2           0.5           0.8\n",
       "count  1.093800e+04  1.093800e+04  10938.000000\n",
       "mean   9.142439e-05  9.142439e-05      0.000091\n",
       "std    7.672849e-03  4.922449e-03      0.002234\n",
       "min    0.000000e+00  0.000000e+00      0.000000\n",
       "25%    2.197092e-09  1.463258e-07      0.000002\n",
       "50%    1.771513e-08  7.321868e-07      0.000007\n",
       "75%    1.367469e-07  3.425074e-06      0.000026\n",
       "max    8.016424e-01  5.086507e-01      0.215137"
      ]
     },
     "execution_count": 31,
     "metadata": {},
     "output_type": "execute_result"
    }
   ],
   "source": [
    "df_vary_p = pd.DataFrame(qs_n[0,:,0].T, columns=p, index=nodes)\n",
    "df_vary_p.index.name = 'genes|p'\n",
    "df_vary_p.describe()"
   ]
  },
  {
   "cell_type": "code",
   "execution_count": 32,
   "id": "29a67926-0ba4-454a-b888-0484ceb43115",
   "metadata": {},
   "outputs": [
    {
     "data": {
      "text/plain": [
       "0.2    1.0\n",
       "0.5    1.0\n",
       "0.8    1.0\n",
       "dtype: float64"
      ]
     },
     "execution_count": 32,
     "metadata": {},
     "output_type": "execute_result"
    }
   ],
   "source": [
    "df_vary_p.sum()"
   ]
  },
  {
   "cell_type": "code",
   "execution_count": 33,
   "id": "7de80998-e512-4aba-99d0-7d45ad21708a",
   "metadata": {},
   "outputs": [],
   "source": [
    "df_vary_p.to_csv(os.path.join(data_dir, \"stat_dist_vary_p.csv\"))"
   ]
  },
  {
   "cell_type": "markdown",
   "id": "953f6073-da65-4524-9b09-a6ad2404aec3",
   "metadata": {},
   "source": [
    "Check different q0, N1, p =0.2 fixed q0\n",
    "\n",
    "Confirm differences (maximum pair-wise element-wise absolute differences)"
   ]
  },
  {
   "cell_type": "code",
   "execution_count": 34,
   "id": "9a43fe60-35f7-4d28-a1dc-2501a4998a21",
   "metadata": {},
   "outputs": [
    {
     "data": {
      "text/plain": [
       "{('ENSG00000109689', 'ENSG00000162595'): 1.9079781774177728e-14,\n",
       " ('ENSG00000109689', 'ENSG00000116133'): 4.4811299993297143e-14,\n",
       " ('ENSG00000162595', 'ENSG00000116133'): 3.941233494687752e-14}"
      ]
     },
     "execution_count": 34,
     "metadata": {},
     "output_type": "execute_result"
    }
   ],
   "source": [
    "element_wise_diffs(qs_n[0,0,:], avg_diff, keys=[nodes[one] for one in ones])"
   ]
  },
  {
   "cell_type": "code",
   "execution_count": 35,
   "id": "c91809e4-0e2d-4bfe-be06-d6d1213787ad",
   "metadata": {},
   "outputs": [
    {
     "data": {
      "text/html": [
       "<div>\n",
       "<style scoped>\n",
       "    .dataframe tbody tr th:only-of-type {\n",
       "        vertical-align: middle;\n",
       "    }\n",
       "\n",
       "    .dataframe tbody tr th {\n",
       "        vertical-align: top;\n",
       "    }\n",
       "\n",
       "    .dataframe thead th {\n",
       "        text-align: right;\n",
       "    }\n",
       "</style>\n",
       "<table border=\"1\" class=\"dataframe\">\n",
       "  <thead>\n",
       "    <tr style=\"text-align: right;\">\n",
       "      <th></th>\n",
       "      <th>ENSG00000109689</th>\n",
       "      <th>ENSG00000162595</th>\n",
       "      <th>ENSG00000116133</th>\n",
       "    </tr>\n",
       "  </thead>\n",
       "  <tbody>\n",
       "    <tr>\n",
       "      <th>count</th>\n",
       "      <td>1.093800e+04</td>\n",
       "      <td>1.093800e+04</td>\n",
       "      <td>1.093800e+04</td>\n",
       "    </tr>\n",
       "    <tr>\n",
       "      <th>mean</th>\n",
       "      <td>9.142439e-05</td>\n",
       "      <td>9.142439e-05</td>\n",
       "      <td>9.142439e-05</td>\n",
       "    </tr>\n",
       "    <tr>\n",
       "      <th>std</th>\n",
       "      <td>7.672849e-03</td>\n",
       "      <td>7.672849e-03</td>\n",
       "      <td>7.672849e-03</td>\n",
       "    </tr>\n",
       "    <tr>\n",
       "      <th>min</th>\n",
       "      <td>0.000000e+00</td>\n",
       "      <td>0.000000e+00</td>\n",
       "      <td>0.000000e+00</td>\n",
       "    </tr>\n",
       "    <tr>\n",
       "      <th>25%</th>\n",
       "      <td>2.197092e-09</td>\n",
       "      <td>2.197088e-09</td>\n",
       "      <td>2.197086e-09</td>\n",
       "    </tr>\n",
       "    <tr>\n",
       "      <th>50%</th>\n",
       "      <td>1.771513e-08</td>\n",
       "      <td>1.771512e-08</td>\n",
       "      <td>1.771511e-08</td>\n",
       "    </tr>\n",
       "    <tr>\n",
       "      <th>75%</th>\n",
       "      <td>1.367469e-07</td>\n",
       "      <td>1.367469e-07</td>\n",
       "      <td>1.367469e-07</td>\n",
       "    </tr>\n",
       "    <tr>\n",
       "      <th>max</th>\n",
       "      <td>8.016424e-01</td>\n",
       "      <td>8.016424e-01</td>\n",
       "      <td>8.016424e-01</td>\n",
       "    </tr>\n",
       "  </tbody>\n",
       "</table>\n",
       "</div>"
      ],
      "text/plain": [
       "       ENSG00000109689  ENSG00000162595  ENSG00000116133\n",
       "count     1.093800e+04     1.093800e+04     1.093800e+04\n",
       "mean      9.142439e-05     9.142439e-05     9.142439e-05\n",
       "std       7.672849e-03     7.672849e-03     7.672849e-03\n",
       "min       0.000000e+00     0.000000e+00     0.000000e+00\n",
       "25%       2.197092e-09     2.197088e-09     2.197086e-09\n",
       "50%       1.771513e-08     1.771512e-08     1.771511e-08\n",
       "75%       1.367469e-07     1.367469e-07     1.367469e-07\n",
       "max       8.016424e-01     8.016424e-01     8.016424e-01"
      ]
     },
     "execution_count": 35,
     "metadata": {},
     "output_type": "execute_result"
    }
   ],
   "source": [
    "df_vary_q = pd.DataFrame(qs_n[0,0,:].T, columns=[nodes[one] for one in ones], index=nodes)\n",
    "df_vary_q.index.name = 'genes|q0'\n",
    "df_vary_q.describe()"
   ]
  },
  {
   "cell_type": "code",
   "execution_count": 36,
   "id": "e2ceff60-c347-46a5-b12d-53e148867f02",
   "metadata": {},
   "outputs": [
    {
     "data": {
      "text/plain": [
       "ENSG00000109689    1.0\n",
       "ENSG00000162595    1.0\n",
       "ENSG00000116133    1.0\n",
       "dtype: float64"
      ]
     },
     "execution_count": 36,
     "metadata": {},
     "output_type": "execute_result"
    }
   ],
   "source": [
    "df_vary_q.sum()"
   ]
  },
  {
   "cell_type": "code",
   "execution_count": 37,
   "id": "00cce254-114a-4ab9-9870-505480359b86",
   "metadata": {},
   "outputs": [],
   "source": [
    "df_vary_q.to_csv(os.path.join(data_dir, \"stat_dist_vary_q.csv\"))"
   ]
  },
  {
   "cell_type": "markdown",
   "id": "bd926299-ed85-4827-b6c0-d966a6fa5cec",
   "metadata": {},
   "source": [
    "Check different probabilities, N2, fixed q0\n",
    "\n",
    "Confirm differences (maximum pair-wise element-wise absolute differences)"
   ]
  },
  {
   "cell_type": "code",
   "execution_count": 38,
   "id": "c204efbd-7476-48ef-b4c3-57e3df2cac3d",
   "metadata": {},
   "outputs": [
    {
     "data": {
      "text/plain": [
       "{(0.2, 0.5): 5.355597404743699e-05,\n",
       " (0.2, 0.8): 0.0001074546361017139,\n",
       " (0.5, 0.8): 5.696541272425046e-05}"
      ]
     },
     "execution_count": 38,
     "metadata": {},
     "output_type": "execute_result"
    }
   ],
   "source": [
    "element_wise_diffs(qs_n[1,:,0], avg_diff, keys=p)"
   ]
  },
  {
   "cell_type": "code",
   "execution_count": 39,
   "id": "5b2a2968-add2-4a82-a540-3d29be162f2c",
   "metadata": {},
   "outputs": [
    {
     "data": {
      "text/html": [
       "<div>\n",
       "<style scoped>\n",
       "    .dataframe tbody tr th:only-of-type {\n",
       "        vertical-align: middle;\n",
       "    }\n",
       "\n",
       "    .dataframe tbody tr th {\n",
       "        vertical-align: top;\n",
       "    }\n",
       "\n",
       "    .dataframe thead th {\n",
       "        text-align: right;\n",
       "    }\n",
       "</style>\n",
       "<table border=\"1\" class=\"dataframe\">\n",
       "  <thead>\n",
       "    <tr style=\"text-align: right;\">\n",
       "      <th></th>\n",
       "      <th>0.2</th>\n",
       "      <th>0.5</th>\n",
       "      <th>0.8</th>\n",
       "    </tr>\n",
       "  </thead>\n",
       "  <tbody>\n",
       "    <tr>\n",
       "      <th>count</th>\n",
       "      <td>1.093800e+04</td>\n",
       "      <td>1.093800e+04</td>\n",
       "      <td>10938.000000</td>\n",
       "    </tr>\n",
       "    <tr>\n",
       "      <th>mean</th>\n",
       "      <td>9.142439e-05</td>\n",
       "      <td>9.142439e-05</td>\n",
       "      <td>0.000091</td>\n",
       "    </tr>\n",
       "    <tr>\n",
       "      <th>std</th>\n",
       "      <td>7.674552e-03</td>\n",
       "      <td>4.921736e-03</td>\n",
       "      <td>0.002198</td>\n",
       "    </tr>\n",
       "    <tr>\n",
       "      <th>min</th>\n",
       "      <td>0.000000e+00</td>\n",
       "      <td>0.000000e+00</td>\n",
       "      <td>0.000000</td>\n",
       "    </tr>\n",
       "    <tr>\n",
       "      <th>25%</th>\n",
       "      <td>2.959191e-09</td>\n",
       "      <td>1.784808e-07</td>\n",
       "      <td>0.000002</td>\n",
       "    </tr>\n",
       "    <tr>\n",
       "      <th>50%</th>\n",
       "      <td>2.468543e-08</td>\n",
       "      <td>9.094516e-07</td>\n",
       "      <td>0.000008</td>\n",
       "    </tr>\n",
       "    <tr>\n",
       "      <th>75%</th>\n",
       "      <td>1.769539e-07</td>\n",
       "      <td>4.090109e-06</td>\n",
       "      <td>0.000029</td>\n",
       "    </tr>\n",
       "    <tr>\n",
       "      <th>max</th>\n",
       "      <td>8.017805e-01</td>\n",
       "      <td>5.088829e-01</td>\n",
       "      <td>0.214111</td>\n",
       "    </tr>\n",
       "  </tbody>\n",
       "</table>\n",
       "</div>"
      ],
      "text/plain": [
       "                0.2           0.5           0.8\n",
       "count  1.093800e+04  1.093800e+04  10938.000000\n",
       "mean   9.142439e-05  9.142439e-05      0.000091\n",
       "std    7.674552e-03  4.921736e-03      0.002198\n",
       "min    0.000000e+00  0.000000e+00      0.000000\n",
       "25%    2.959191e-09  1.784808e-07      0.000002\n",
       "50%    2.468543e-08  9.094516e-07      0.000008\n",
       "75%    1.769539e-07  4.090109e-06      0.000029\n",
       "max    8.017805e-01  5.088829e-01      0.214111"
      ]
     },
     "execution_count": 39,
     "metadata": {},
     "output_type": "execute_result"
    }
   ],
   "source": [
    "df_vary_p_n2 = pd.DataFrame(qs_n[1,:,0].T, columns=p, index=nodes)\n",
    "df_vary_p_n2.index.name = 'genes|p'\n",
    "df_vary_p_n2.describe()"
   ]
  },
  {
   "cell_type": "code",
   "execution_count": 40,
   "id": "85a4748b-48b9-4a61-8d78-dc3509b30244",
   "metadata": {},
   "outputs": [
    {
     "data": {
      "text/plain": [
       "0.2    1.0\n",
       "0.5    1.0\n",
       "0.8    1.0\n",
       "dtype: float64"
      ]
     },
     "execution_count": 40,
     "metadata": {},
     "output_type": "execute_result"
    }
   ],
   "source": [
    "df_vary_p_n2.sum()"
   ]
  },
  {
   "cell_type": "code",
   "execution_count": 41,
   "id": "6b48b0c3-d893-4344-8ab5-c3765286e8ca",
   "metadata": {},
   "outputs": [],
   "source": [
    "df_vary_p_n2.to_csv(os.path.join(data_dir, \"stat_dist_vary_p_n2.csv\"))"
   ]
  },
  {
   "cell_type": "markdown",
   "id": "1407efa1-1ac3-4eee-906c-e77d29b27d67",
   "metadata": {},
   "source": [
    "Check N2 vs N1, p=0.2, fixed q0\n",
    "\n",
    "Confirm differences (maximum pair-wise element-wise absolute differences)"
   ]
  },
  {
   "cell_type": "code",
   "execution_count": 42,
   "id": "1ef70fd1-c410-47d6-a5df-dad668f16161",
   "metadata": {},
   "outputs": [
    {
     "data": {
      "text/plain": [
       "{('N1', 'N2'): 0.0001518684150009106}"
      ]
     },
     "execution_count": 42,
     "metadata": {},
     "output_type": "execute_result"
    }
   ],
   "source": [
    "element_wise_diffs(qs_n[:,0,0], avg_diff, keys=['N1', 'N2'])"
   ]
  },
  {
   "cell_type": "code",
   "execution_count": 43,
   "id": "70c32c92-cd82-47ca-9fd6-e23a064cf558",
   "metadata": {},
   "outputs": [
    {
     "data": {
      "text/html": [
       "<div>\n",
       "<style scoped>\n",
       "    .dataframe tbody tr th:only-of-type {\n",
       "        vertical-align: middle;\n",
       "    }\n",
       "\n",
       "    .dataframe tbody tr th {\n",
       "        vertical-align: top;\n",
       "    }\n",
       "\n",
       "    .dataframe thead th {\n",
       "        text-align: right;\n",
       "    }\n",
       "</style>\n",
       "<table border=\"1\" class=\"dataframe\">\n",
       "  <thead>\n",
       "    <tr style=\"text-align: right;\">\n",
       "      <th></th>\n",
       "      <th>N1</th>\n",
       "      <th>N2</th>\n",
       "    </tr>\n",
       "  </thead>\n",
       "  <tbody>\n",
       "    <tr>\n",
       "      <th>count</th>\n",
       "      <td>1.093800e+04</td>\n",
       "      <td>1.093800e+04</td>\n",
       "    </tr>\n",
       "    <tr>\n",
       "      <th>mean</th>\n",
       "      <td>9.142439e-05</td>\n",
       "      <td>9.142439e-05</td>\n",
       "    </tr>\n",
       "    <tr>\n",
       "      <th>std</th>\n",
       "      <td>7.672849e-03</td>\n",
       "      <td>7.674552e-03</td>\n",
       "    </tr>\n",
       "    <tr>\n",
       "      <th>min</th>\n",
       "      <td>0.000000e+00</td>\n",
       "      <td>0.000000e+00</td>\n",
       "    </tr>\n",
       "    <tr>\n",
       "      <th>25%</th>\n",
       "      <td>2.197092e-09</td>\n",
       "      <td>2.959191e-09</td>\n",
       "    </tr>\n",
       "    <tr>\n",
       "      <th>50%</th>\n",
       "      <td>1.771513e-08</td>\n",
       "      <td>2.468543e-08</td>\n",
       "    </tr>\n",
       "    <tr>\n",
       "      <th>75%</th>\n",
       "      <td>1.367469e-07</td>\n",
       "      <td>1.769539e-07</td>\n",
       "    </tr>\n",
       "    <tr>\n",
       "      <th>max</th>\n",
       "      <td>8.016424e-01</td>\n",
       "      <td>8.017805e-01</td>\n",
       "    </tr>\n",
       "  </tbody>\n",
       "</table>\n",
       "</div>"
      ],
      "text/plain": [
       "                 N1            N2\n",
       "count  1.093800e+04  1.093800e+04\n",
       "mean   9.142439e-05  9.142439e-05\n",
       "std    7.672849e-03  7.674552e-03\n",
       "min    0.000000e+00  0.000000e+00\n",
       "25%    2.197092e-09  2.959191e-09\n",
       "50%    1.771513e-08  2.468543e-08\n",
       "75%    1.367469e-07  1.769539e-07\n",
       "max    8.016424e-01  8.017805e-01"
      ]
     },
     "execution_count": 43,
     "metadata": {},
     "output_type": "execute_result"
    }
   ],
   "source": [
    "df_vary_v = pd.DataFrame(qs_n[:,0,0].T, columns=['N1', 'N2'], index=nodes)\n",
    "df_vary_v.index.name = 'genes|v'\n",
    "df_vary_v.describe()"
   ]
  },
  {
   "cell_type": "code",
   "execution_count": 44,
   "id": "adfd76f6-ee16-42e9-97fc-f3c10449d12d",
   "metadata": {},
   "outputs": [
    {
     "data": {
      "text/plain": [
       "N1    1.0\n",
       "N2    1.0\n",
       "dtype: float64"
      ]
     },
     "execution_count": 44,
     "metadata": {},
     "output_type": "execute_result"
    }
   ],
   "source": [
    "df_vary_v.sum()"
   ]
  },
  {
   "cell_type": "code",
   "execution_count": 45,
   "id": "3447d880-48f9-4164-9812-f6287a88000f",
   "metadata": {},
   "outputs": [],
   "source": [
    "df_vary_v.to_csv(os.path.join(data_dir, \"stat_dist_vary_v.csv\"))"
   ]
  },
  {
   "cell_type": "code",
   "execution_count": null,
   "id": "6e05a86a-4989-42a1-bfb6-b7dc05ebdb70",
   "metadata": {},
   "outputs": [],
   "source": []
  }
 ],
 "metadata": {
  "kernelspec": {
   "display_name": "Python 3 (ipykernel)",
   "language": "python",
   "name": "python3"
  },
  "language_info": {
   "codemirror_mode": {
    "name": "ipython",
    "version": 3
   },
   "file_extension": ".py",
   "mimetype": "text/x-python",
   "name": "python",
   "nbconvert_exporter": "python",
   "pygments_lexer": "ipython3",
   "version": "3.9.7"
  }
 },
 "nbformat": 4,
 "nbformat_minor": 5
}
