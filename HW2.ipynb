{
 "cells": [
  {
   "cell_type": "code",
   "execution_count": 1,
   "id": "3cb1a38e-32fd-4ca3-9ce3-99d37df7fef4",
   "metadata": {},
   "outputs": [],
   "source": [
    "import pandas as pd\n",
    "import numpy as np\n",
    "import sklearn\n",
    "import scipy.stats as ss\n",
    "import matplotlib.pyplot as plt"
   ]
  },
  {
   "cell_type": "markdown",
   "id": "da3ed1d9-83c3-451b-aba6-f9ea7ccb12aa",
   "metadata": {},
   "source": [
    "# Homework 2"
   ]
  },
  {
   "cell_type": "markdown",
   "id": "81d8328f-a54d-4da9-9c63-60825f778f5f",
   "metadata": {},
   "source": [
    "## 1.3"
   ]
  },
  {
   "cell_type": "markdown",
   "id": "ee80a06e-1957-42a5-92ae-37e5a94f62ef",
   "metadata": {},
   "source": [
    "Load edges, nodes"
   ]
  },
  {
   "cell_type": "code",
   "execution_count": 2,
   "id": "0221957c-bc62-4aef-be06-629976032dca",
   "metadata": {},
   "outputs": [],
   "source": [
    "edge_cols = ['Node1_id', 'Node2_id', 'Edge_weight', 'Edge_type', 'Source_id', 'Line_num']\n",
    "edges = pd.read_csv('data/9606.hn_HS_CX.edge', sep='\\t', names=edge_cols)"
   ]
  },
  {
   "cell_type": "code",
   "execution_count": 3,
   "id": "18678238-fcb2-41ea-b013-ecb8db464e42",
   "metadata": {},
   "outputs": [
    {
     "data": {
      "text/html": [
       "<div>\n",
       "<style scoped>\n",
       "    .dataframe tbody tr th:only-of-type {\n",
       "        vertical-align: middle;\n",
       "    }\n",
       "\n",
       "    .dataframe tbody tr th {\n",
       "        vertical-align: top;\n",
       "    }\n",
       "\n",
       "    .dataframe thead th {\n",
       "        text-align: right;\n",
       "    }\n",
       "</style>\n",
       "<table border=\"1\" class=\"dataframe\">\n",
       "  <thead>\n",
       "    <tr style=\"text-align: right;\">\n",
       "      <th></th>\n",
       "      <th>Node1_id</th>\n",
       "      <th>Node2_id</th>\n",
       "      <th>Edge_weight</th>\n",
       "      <th>Edge_type</th>\n",
       "      <th>Source_id</th>\n",
       "      <th>Line_num</th>\n",
       "    </tr>\n",
       "  </thead>\n",
       "  <tbody>\n",
       "    <tr>\n",
       "      <th>0</th>\n",
       "      <td>ENSG00000284589</td>\n",
       "      <td>ENSG00000276821</td>\n",
       "      <td>0.000008</td>\n",
       "      <td>hn_HS_CX</td>\n",
       "      <td>humannet.HumanNet</td>\n",
       "      <td>248612</td>\n",
       "    </tr>\n",
       "    <tr>\n",
       "      <th>1</th>\n",
       "      <td>ENSG00000284589</td>\n",
       "      <td>ENSG00000267534</td>\n",
       "      <td>0.000006</td>\n",
       "      <td>hn_HS_CX</td>\n",
       "      <td>humannet.HumanNet</td>\n",
       "      <td>332085</td>\n",
       "    </tr>\n",
       "    <tr>\n",
       "      <th>2</th>\n",
       "      <td>ENSG00000284589</td>\n",
       "      <td>ENSG00000178802</td>\n",
       "      <td>0.000006</td>\n",
       "      <td>hn_HS_CX</td>\n",
       "      <td>humannet.HumanNet</td>\n",
       "      <td>318214</td>\n",
       "    </tr>\n",
       "    <tr>\n",
       "      <th>3</th>\n",
       "      <td>ENSG00000284589</td>\n",
       "      <td>ENSG00000172772</td>\n",
       "      <td>0.000007</td>\n",
       "      <td>hn_HS_CX</td>\n",
       "      <td>humannet.HumanNet</td>\n",
       "      <td>312029</td>\n",
       "    </tr>\n",
       "    <tr>\n",
       "      <th>4</th>\n",
       "      <td>ENSG00000284589</td>\n",
       "      <td>ENSG00000167751</td>\n",
       "      <td>0.000008</td>\n",
       "      <td>hn_HS_CX</td>\n",
       "      <td>humannet.HumanNet</td>\n",
       "      <td>243030</td>\n",
       "    </tr>\n",
       "    <tr>\n",
       "      <th>...</th>\n",
       "      <td>...</td>\n",
       "      <td>...</td>\n",
       "      <td>...</td>\n",
       "      <td>...</td>\n",
       "      <td>...</td>\n",
       "      <td>...</td>\n",
       "    </tr>\n",
       "    <tr>\n",
       "      <th>154382</th>\n",
       "      <td>ENSG00000000419</td>\n",
       "      <td>ENSG00000124802</td>\n",
       "      <td>0.000005</td>\n",
       "      <td>hn_HS_CX</td>\n",
       "      <td>humannet.HumanNet</td>\n",
       "      <td>394893</td>\n",
       "    </tr>\n",
       "    <tr>\n",
       "      <th>154383</th>\n",
       "      <td>ENSG00000000419</td>\n",
       "      <td>ENSG00000101557</td>\n",
       "      <td>0.000006</td>\n",
       "      <td>hn_HS_CX</td>\n",
       "      <td>humannet.HumanNet</td>\n",
       "      <td>360110</td>\n",
       "    </tr>\n",
       "    <tr>\n",
       "      <th>154384</th>\n",
       "      <td>ENSG00000000419</td>\n",
       "      <td>ENSG00000101224</td>\n",
       "      <td>0.000006</td>\n",
       "      <td>hn_HS_CX</td>\n",
       "      <td>humannet.HumanNet</td>\n",
       "      <td>328424</td>\n",
       "    </tr>\n",
       "    <tr>\n",
       "      <th>154385</th>\n",
       "      <td>ENSG00000000419</td>\n",
       "      <td>ENSG00000096401</td>\n",
       "      <td>0.000006</td>\n",
       "      <td>hn_HS_CX</td>\n",
       "      <td>humannet.HumanNet</td>\n",
       "      <td>321013</td>\n",
       "    </tr>\n",
       "    <tr>\n",
       "      <th>154386</th>\n",
       "      <td>ENSG00000000419</td>\n",
       "      <td>ENSG00000082153</td>\n",
       "      <td>0.000005</td>\n",
       "      <td>hn_HS_CX</td>\n",
       "      <td>humannet.HumanNet</td>\n",
       "      <td>414137</td>\n",
       "    </tr>\n",
       "  </tbody>\n",
       "</table>\n",
       "<p>154387 rows × 6 columns</p>\n",
       "</div>"
      ],
      "text/plain": [
       "               Node1_id         Node2_id  Edge_weight Edge_type  \\\n",
       "0       ENSG00000284589  ENSG00000276821     0.000008  hn_HS_CX   \n",
       "1       ENSG00000284589  ENSG00000267534     0.000006  hn_HS_CX   \n",
       "2       ENSG00000284589  ENSG00000178802     0.000006  hn_HS_CX   \n",
       "3       ENSG00000284589  ENSG00000172772     0.000007  hn_HS_CX   \n",
       "4       ENSG00000284589  ENSG00000167751     0.000008  hn_HS_CX   \n",
       "...                 ...              ...          ...       ...   \n",
       "154382  ENSG00000000419  ENSG00000124802     0.000005  hn_HS_CX   \n",
       "154383  ENSG00000000419  ENSG00000101557     0.000006  hn_HS_CX   \n",
       "154384  ENSG00000000419  ENSG00000101224     0.000006  hn_HS_CX   \n",
       "154385  ENSG00000000419  ENSG00000096401     0.000006  hn_HS_CX   \n",
       "154386  ENSG00000000419  ENSG00000082153     0.000005  hn_HS_CX   \n",
       "\n",
       "                Source_id  Line_num  \n",
       "0       humannet.HumanNet    248612  \n",
       "1       humannet.HumanNet    332085  \n",
       "2       humannet.HumanNet    318214  \n",
       "3       humannet.HumanNet    312029  \n",
       "4       humannet.HumanNet    243030  \n",
       "...                   ...       ...  \n",
       "154382  humannet.HumanNet    394893  \n",
       "154383  humannet.HumanNet    360110  \n",
       "154384  humannet.HumanNet    328424  \n",
       "154385  humannet.HumanNet    321013  \n",
       "154386  humannet.HumanNet    414137  \n",
       "\n",
       "[154387 rows x 6 columns]"
      ]
     },
     "execution_count": 3,
     "metadata": {},
     "output_type": "execute_result"
    }
   ],
   "source": [
    "edges"
   ]
  },
  {
   "cell_type": "code",
   "execution_count": 4,
   "id": "e23ac8c4-e25d-45c1-9c83-738c5fa4c823",
   "metadata": {},
   "outputs": [],
   "source": [
    "node_cols = ['Internal_id', 'Mapped_id', 'Node_type', 'Node_alias', 'Node_description']\n",
    "node_map = pd.read_csv('data/9606.hn_HS_CX.node_map', sep='\\t', names=node_cols)"
   ]
  },
  {
   "cell_type": "code",
   "execution_count": 5,
   "id": "0728f466-bfcc-48b2-bf89-281ea26568d9",
   "metadata": {},
   "outputs": [
    {
     "data": {
      "text/html": [
       "<div>\n",
       "<style scoped>\n",
       "    .dataframe tbody tr th:only-of-type {\n",
       "        vertical-align: middle;\n",
       "    }\n",
       "\n",
       "    .dataframe tbody tr th {\n",
       "        vertical-align: top;\n",
       "    }\n",
       "\n",
       "    .dataframe thead th {\n",
       "        text-align: right;\n",
       "    }\n",
       "</style>\n",
       "<table border=\"1\" class=\"dataframe\">\n",
       "  <thead>\n",
       "    <tr style=\"text-align: right;\">\n",
       "      <th></th>\n",
       "      <th>Internal_id</th>\n",
       "      <th>Mapped_id</th>\n",
       "      <th>Node_type</th>\n",
       "      <th>Node_alias</th>\n",
       "      <th>Node_description</th>\n",
       "    </tr>\n",
       "  </thead>\n",
       "  <tbody>\n",
       "    <tr>\n",
       "      <th>0</th>\n",
       "      <td>ENSG00000187555</td>\n",
       "      <td>ENSG00000187555</td>\n",
       "      <td>Gene</td>\n",
       "      <td>USP7</td>\n",
       "      <td>ubiquitin specific peptidase 7 [Source:HGNC Sy...</td>\n",
       "    </tr>\n",
       "    <tr>\n",
       "      <th>1</th>\n",
       "      <td>ENSG00000196431</td>\n",
       "      <td>ENSG00000196431</td>\n",
       "      <td>Gene</td>\n",
       "      <td>CRYBA4</td>\n",
       "      <td>crystallin beta A4 [Source:HGNC Symbol;Acc:HGN...</td>\n",
       "    </tr>\n",
       "    <tr>\n",
       "      <th>2</th>\n",
       "      <td>ENSG00000166889</td>\n",
       "      <td>ENSG00000166889</td>\n",
       "      <td>Gene</td>\n",
       "      <td>PATL1</td>\n",
       "      <td>PAT1 homolog 1, processing body mRNA decay fac...</td>\n",
       "    </tr>\n",
       "    <tr>\n",
       "      <th>3</th>\n",
       "      <td>ENSG00000119042</td>\n",
       "      <td>ENSG00000119042</td>\n",
       "      <td>Gene</td>\n",
       "      <td>SATB2</td>\n",
       "      <td>SATB homeobox 2 [Source:HGNC Symbol;Acc:HGNC:2...</td>\n",
       "    </tr>\n",
       "    <tr>\n",
       "      <th>4</th>\n",
       "      <td>ENSG00000183508</td>\n",
       "      <td>ENSG00000183508</td>\n",
       "      <td>Gene</td>\n",
       "      <td>FAM46C</td>\n",
       "      <td>family with sequence similarity 46 member C [S...</td>\n",
       "    </tr>\n",
       "    <tr>\n",
       "      <th>...</th>\n",
       "      <td>...</td>\n",
       "      <td>...</td>\n",
       "      <td>...</td>\n",
       "      <td>...</td>\n",
       "      <td>...</td>\n",
       "    </tr>\n",
       "    <tr>\n",
       "      <th>10933</th>\n",
       "      <td>ENSG00000116903</td>\n",
       "      <td>ENSG00000116903</td>\n",
       "      <td>Gene</td>\n",
       "      <td>EXOC8</td>\n",
       "      <td>exocyst complex component 8 [Source:HGNC Symbo...</td>\n",
       "    </tr>\n",
       "    <tr>\n",
       "      <th>10934</th>\n",
       "      <td>ENSG00000047346</td>\n",
       "      <td>ENSG00000047346</td>\n",
       "      <td>Gene</td>\n",
       "      <td>FAM214A</td>\n",
       "      <td>family with sequence similarity 214 member A [...</td>\n",
       "    </tr>\n",
       "    <tr>\n",
       "      <th>10935</th>\n",
       "      <td>ENSG00000134901</td>\n",
       "      <td>ENSG00000134901</td>\n",
       "      <td>Gene</td>\n",
       "      <td>KDELC1</td>\n",
       "      <td>KDEL motif containing 1 [Source:HGNC Symbol;Ac...</td>\n",
       "    </tr>\n",
       "    <tr>\n",
       "      <th>10936</th>\n",
       "      <td>ENSG00000160180</td>\n",
       "      <td>ENSG00000160180</td>\n",
       "      <td>Gene</td>\n",
       "      <td>TFF3</td>\n",
       "      <td>trefoil factor 3 [Source:HGNC Symbol;Acc:HGNC:...</td>\n",
       "    </tr>\n",
       "    <tr>\n",
       "      <th>10937</th>\n",
       "      <td>ENSG00000128245</td>\n",
       "      <td>ENSG00000128245</td>\n",
       "      <td>Gene</td>\n",
       "      <td>YWHAH</td>\n",
       "      <td>tyrosine 3-monooxygenase/tryptophan 5-monooxyg...</td>\n",
       "    </tr>\n",
       "  </tbody>\n",
       "</table>\n",
       "<p>10938 rows × 5 columns</p>\n",
       "</div>"
      ],
      "text/plain": [
       "           Internal_id        Mapped_id Node_type Node_alias  \\\n",
       "0      ENSG00000187555  ENSG00000187555      Gene       USP7   \n",
       "1      ENSG00000196431  ENSG00000196431      Gene     CRYBA4   \n",
       "2      ENSG00000166889  ENSG00000166889      Gene      PATL1   \n",
       "3      ENSG00000119042  ENSG00000119042      Gene      SATB2   \n",
       "4      ENSG00000183508  ENSG00000183508      Gene     FAM46C   \n",
       "...                ...              ...       ...        ...   \n",
       "10933  ENSG00000116903  ENSG00000116903      Gene      EXOC8   \n",
       "10934  ENSG00000047346  ENSG00000047346      Gene    FAM214A   \n",
       "10935  ENSG00000134901  ENSG00000134901      Gene     KDELC1   \n",
       "10936  ENSG00000160180  ENSG00000160180      Gene       TFF3   \n",
       "10937  ENSG00000128245  ENSG00000128245      Gene      YWHAH   \n",
       "\n",
       "                                        Node_description  \n",
       "0      ubiquitin specific peptidase 7 [Source:HGNC Sy...  \n",
       "1      crystallin beta A4 [Source:HGNC Symbol;Acc:HGN...  \n",
       "2      PAT1 homolog 1, processing body mRNA decay fac...  \n",
       "3      SATB homeobox 2 [Source:HGNC Symbol;Acc:HGNC:2...  \n",
       "4      family with sequence similarity 46 member C [S...  \n",
       "...                                                  ...  \n",
       "10933  exocyst complex component 8 [Source:HGNC Symbo...  \n",
       "10934  family with sequence similarity 214 member A [...  \n",
       "10935  KDEL motif containing 1 [Source:HGNC Symbol;Ac...  \n",
       "10936  trefoil factor 3 [Source:HGNC Symbol;Acc:HGNC:...  \n",
       "10937  tyrosine 3-monooxygenase/tryptophan 5-monooxyg...  \n",
       "\n",
       "[10938 rows x 5 columns]"
      ]
     },
     "execution_count": 5,
     "metadata": {},
     "output_type": "execute_result"
    }
   ],
   "source": [
    "node_map"
   ]
  },
  {
   "cell_type": "code",
   "execution_count": 6,
   "id": "60f57850-a33e-441c-9f50-451eaddff41f",
   "metadata": {},
   "outputs": [
    {
     "data": {
      "text/plain": [
       "True"
      ]
     },
     "execution_count": 6,
     "metadata": {},
     "output_type": "execute_result"
    }
   ],
   "source": [
    "# check to see that all nodes are in \n",
    "node_map.Internal_id.equals(node_map.Mapped_id)"
   ]
  },
  {
   "cell_type": "code",
   "execution_count": 8,
   "id": "c4956063-1c93-4ff7-aac9-e876c3d0dfc4",
   "metadata": {},
   "outputs": [
    {
     "data": {
      "text/plain": [
       "(10938,)"
      ]
     },
     "execution_count": 8,
     "metadata": {},
     "output_type": "execute_result"
    }
   ],
   "source": [
    "node_map.Internal_id.unique().shape"
   ]
  },
  {
   "cell_type": "markdown",
   "id": "9202c7c1-e019-4264-a09d-ad45f215eb68",
   "metadata": {},
   "source": [
    "Construct Adjacency Matrix"
   ]
  },
  {
   "cell_type": "code",
   "execution_count": 25,
   "id": "eeb945ea-7ba3-4f14-ba04-ca7a1994e107",
   "metadata": {},
   "outputs": [],
   "source": [
    "from scipy.sparse import csr_matrix\n",
    "\n",
    "nodes = node_map.Internal_id.unique()\n",
    "adj = np.zeros((len(nodes), len(nodes)), dtype=float)\n",
    "\n",
    "# dict stores indices for each node id\n",
    "node_idx = dict(zip(nodes, np.arange(len(nodes))))"
   ]
  },
  {
   "cell_type": "code",
   "execution_count": 26,
   "id": "d235290f-1240-43ff-b2f6-d0a42a8b50ae",
   "metadata": {},
   "outputs": [
    {
     "data": {
      "text/plain": [
       "0"
      ]
     },
     "execution_count": 26,
     "metadata": {},
     "output_type": "execute_result"
    }
   ],
   "source": [
    "duplicates = 0\n",
    "for Node1_id, Node2_id, Edge_weight in zip(edges.Node1_id, edges.Node2_id, edges.Edge_weight):\n",
    "    idx1 = node_idx[Node1_id]\n",
    "    idx2 = node_idx[Node2_id]\n",
    "    \n",
    "    if (adj[idx1, idx2] == 0.0) and (adj[idx2, idx1] == 0.0):\n",
    "        adj[idx1, idx2] = Edge_weight\n",
    "        adj[idx2, idx1] = Edge_weight\n",
    "    elif (adj[idx1, idx2] != Edge_weight) or (adj[idx2, idx1] != Edge_weight):\n",
    "        print(f'Different duplicates in adjacency matrix: Nodes {Node1_id}, {Node2_id}')\n",
    "        break\n",
    "    else:\n",
    "        duplicates +=1\n",
    "\n",
    "duplicates\n",
    "    "
   ]
  },
  {
   "cell_type": "code",
   "execution_count": 28,
   "id": "8c3c11f2-367c-44ca-a9ae-04f10b730ad4",
   "metadata": {},
   "outputs": [
    {
     "data": {
      "text/plain": [
       "1.9999838898799962"
      ]
     },
     "execution_count": 28,
     "metadata": {},
     "output_type": "execute_result"
    }
   ],
   "source": [
    "adj.sum()"
   ]
  },
  {
   "cell_type": "code",
   "execution_count": 31,
   "id": "1c5f4bc9-049a-4232-844b-7fef36d1686d",
   "metadata": {},
   "outputs": [
    {
     "data": {
      "text/plain": [
       "119639844"
      ]
     },
     "execution_count": 31,
     "metadata": {},
     "output_type": "execute_result"
    }
   ],
   "source": [
    "adj.size"
   ]
  },
  {
   "cell_type": "code",
   "execution_count": null,
   "id": "1c840639-5826-4f80-80dd-c01bb2773b45",
   "metadata": {},
   "outputs": [],
   "source": []
  }
 ],
 "metadata": {
  "kernelspec": {
   "display_name": "Python 3 (ipykernel)",
   "language": "python",
   "name": "python3"
  },
  "language_info": {
   "codemirror_mode": {
    "name": "ipython",
    "version": 3
   },
   "file_extension": ".py",
   "mimetype": "text/x-python",
   "name": "python",
   "nbconvert_exporter": "python",
   "pygments_lexer": "ipython3",
   "version": "3.9.7"
  }
 },
 "nbformat": 4,
 "nbformat_minor": 5
}
